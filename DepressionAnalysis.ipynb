{
 "cells": [
  {
   "cell_type": "code",
   "execution_count": 11,
   "id": "8154cd72-8a04-4cc5-8a07-70125fc13ff6",
   "metadata": {},
   "outputs": [
    {
     "name": "stdout",
     "output_type": "stream",
     "text": [
      "             Name  Gender  Age       City Working Professional or Student  \\\n",
      "0           Pooja  Female   37  Ghaziabad            Working Professional   \n",
      "1         Reyansh    Male   60     Kalyan            Working Professional   \n",
      "2           Manvi  Female   42     Bhopal            Working Professional   \n",
      "3            Isha  Female   44      Thane            Working Professional   \n",
      "4           Aarav    Male   48     Indore            Working Professional   \n",
      "...           ...     ...  ...        ...                             ...   \n",
      "2551  Raghavendra    Male   25  Bangalore            Working Professional   \n",
      "2552         Pihu  Female   23       Pune            Working Professional   \n",
      "2553         Sara  Female   24   Srinagar            Working Professional   \n",
      "2554       Eshita  Female   56  Bangalore            Working Professional   \n",
      "2555        Kiran    Male   18      Surat                         Student   \n",
      "\n",
      "             Profession  Academic Pressure  Work Pressure  CGPA  \\\n",
      "0               Teacher                NaN            2.0   NaN   \n",
      "1     Financial Analyst                NaN            4.0   NaN   \n",
      "2               Teacher                NaN            2.0   NaN   \n",
      "3               Teacher                NaN            3.0   NaN   \n",
      "4        UX/UI Designer                NaN            4.0   NaN   \n",
      "...                 ...                ...            ...   ...   \n",
      "2551         Consultant                NaN            1.0   NaN   \n",
      "2552            Teacher                NaN            3.0   NaN   \n",
      "2553         HR Manager                NaN            1.0   NaN   \n",
      "2554   Business Analyst                NaN            2.0   NaN   \n",
      "2555                NaN                5.0            NaN   6.7   \n",
      "\n",
      "      Study Satisfaction  Job Satisfaction     Sleep Duration Dietary Habits  \\\n",
      "0                    NaN               4.0          7-8 hours       Moderate   \n",
      "1                    NaN               3.0          5-6 hours      Unhealthy   \n",
      "2                    NaN               3.0          5-6 hours       Moderate   \n",
      "3                    NaN               5.0          7-8 hours        Healthy   \n",
      "4                    NaN               3.0          7-8 hours       Moderate   \n",
      "...                  ...               ...                ...            ...   \n",
      "2551                 NaN               5.0          5-6 hours        Healthy   \n",
      "2552                 NaN               1.0  Less than 5 hours       Moderate   \n",
      "2553                 NaN               4.0  Less than 5 hours       Moderate   \n",
      "2554                 NaN               3.0          7-8 hours        Healthy   \n",
      "2555                 3.0               NaN  More than 8 hours      Unhealthy   \n",
      "\n",
      "        Degree Have you ever had suicidal thoughts ?  Work/Study Hours  \\\n",
      "0           MA                                    No                 6   \n",
      "1        B.Com                                   Yes                 0   \n",
      "2        M.Com                                    No                 0   \n",
      "3           MD                                   Yes                 1   \n",
      "4           BE                                   Yes                 6   \n",
      "...        ...                                   ...               ...   \n",
      "2551       BBA                                   Yes                12   \n",
      "2552        MA                                   Yes                 8   \n",
      "2553        BA                                   Yes                 4   \n",
      "2554       BBA                                    No                 4   \n",
      "2555  Class 12                                    No                 6   \n",
      "\n",
      "      Financial Stress Family History of Mental Illness Depression  \n",
      "0                    2                               No         No  \n",
      "1                    4                              Yes         No  \n",
      "2                    2                               No         No  \n",
      "3                    2                              Yes         No  \n",
      "4                    5                              Yes         No  \n",
      "...                ...                              ...        ...  \n",
      "2551                 3                              Yes         No  \n",
      "2552                 3                               No        Yes  \n",
      "2553                 4                               No         No  \n",
      "2554                 5                              Yes         No  \n",
      "2555                 2                              Yes        Yes  \n",
      "\n",
      "[2556 rows x 19 columns]\n"
     ]
    }
   ],
   "source": [
    "import pandas as pd\n",
    "import matplotlib.pyplot as plt\n",
    "from scipy.stats import pearsonr\n",
    "from sklearn.linear_model import LinearRegression\n",
    "import csv\n",
    "\n",
    "## storing data into list\n",
    "df = pd.read_csv('final_depression_dataset_1.csv')\n",
    "print(df)"
   ]
  }
 ],
 "metadata": {
  "kernelspec": {
   "display_name": "Python 3 (ipykernel)",
   "language": "python",
   "name": "python3"
  },
  "language_info": {
   "codemirror_mode": {
    "name": "ipython",
    "version": 3
   },
   "file_extension": ".py",
   "mimetype": "text/x-python",
   "name": "python",
   "nbconvert_exporter": "python",
   "pygments_lexer": "ipython3",
   "version": "3.12.4"
  }
 },
 "nbformat": 4,
 "nbformat_minor": 5
}
